{
  "nbformat": 4,
  "nbformat_minor": 0,
  "metadata": {
    "colab": {
      "provenance": [],
      "authorship_tag": "ABX9TyOvrMhvvfWF36/BRMxaqFaa",
      "include_colab_link": true
    },
    "kernelspec": {
      "name": "python3",
      "display_name": "Python 3"
    },
    "language_info": {
      "name": "python"
    }
  },
  "cells": [
    {
      "cell_type": "markdown",
      "metadata": {
        "id": "view-in-github",
        "colab_type": "text"
      },
      "source": [
        "<a href=\"https://colab.research.google.com/github/254francis/Cryptography_class/blob/main/XOR_bruteforce_script.ipynb\" target=\"_parent\"><img src=\"https://colab.research.google.com/assets/colab-badge.svg\" alt=\"Open In Colab\"/></a>"
      ]
    },
    {
      "cell_type": "code",
      "execution_count": null,
      "metadata": {
        "colab": {
          "base_uri": "https://localhost:8080/"
        },
        "id": "z4vsxUgFcdiO",
        "outputId": "6b99461d-8c88-45ef-8efa-305ddaab4d8b"
      },
      "outputs": [
        {
          "output_type": "stream",
          "name": "stdout",
          "text": [
            "\n",
            "🟢 Key: RABBIT2025!\n",
            "🔍 Possible flag(s): ['ABJW2827', 'PQBDQT203RFB20', 'QCNXT2204', 'SAKBAD20', '6205PSBIT2', '4BCJBT802', 'RBRPIP20', 'CIT25C75RA', 'TCRH8071SF', '7ARABBIT', 'ABRIP0R5IQBB', 'CAFRYT02', 'RAJHIT202', 'IT347ABQRC255']\n",
            "\n",
            "📝 Preview of decoded content:\n",
            " \u0001B\u0002T34r5%\u0001ABM48r\u00151V\n",
            "BYT:829!SA\u0002LP:#\u00051ZaCFV6pA\u0002FiX\u0018\u0012=1bABJW2827!SKBC\bt6p\u00125!ADJM\u001c0:7!RA\u0007J\b20b)qRCiBv182%![ARB\u000b^2P2!^abBA\u00142p5-mJGHp21\"\u0015RKCFIF2;t!ZABBItr025 RcPID64raR1BJT30r7%BQKXT2p0i\u0011APBIU2`25^\u0001\u0012cM\u0014vp5!RMBb(\\20:m!\u001bA@FM:02u!cAbMT30b5aBA@BLSw!651@BF\t\u0014:0\u00125!\n",
            "AFbAd 07aPQBDQT203RFB20\"\u0001REbXIu21\u0014 RQCKT`s<\u0001ArB=\u00102v5Q@B\u0002Ip4\u0012(@aB\n",
            "Y\\r\u0016rt(wARIA6\u0011'uBAT\u0012\u00143<!\u0013 \u0002FT\n",
            "09\u0005cAfRaT:225!RQC@eT105ArA\\205$Ra\u0002J)t\u00102%!\u0012b@I\"2\u00134#bQCNXT2204 VAJBID2\u000404\u0001RA\u0000I\u001c4825ARI\u0004$0&5)VkF\u0012A\u00108\u00122tSABTUr8R1,\u0010ABXIU\u001aPp5!RBCB\u000bT22Ru'RAbI\\25\u001aA\u0002IV03uiR\u0002B\n",
            "\n",
            "🟢 Key: BUNNY2025!\n",
            "🔍 Possible flag(s): ['Y81653BG', 'BUNNY235', '1RQHO920', 'FY6224BS', '1HEND93021', 'H4024JUNL', 'RUJYR0Z1BU', '20311PUNO', 'BUFDY20251CU', 'NNX60U1RED255', 'QNJ2851RQN']\n",
            "\n",
            "📝 Preview of decoded content:\n",
            " \u0015N\u000e216u!F\u000eMY64=abEJ\u00112 2=)BYNOYp71)D~^Q\u001216#F\u0015ݱ0r1\u0001NfnQ\"\u000025)VNFY003?!C\u0014nJ\u0019\u001202!D]J\u0006[805!B\u0010F\u000f20b)qBWeN\u00103:51B\\N^Yp:2U!UBny28r5aUBu:53\u0011!CEnY81653BG\u000fY:025!b\u0015NNY30\u0010'BEJJ\u0019p2E!JNOYr26%1K_NYr2}bBGNNX2`25N\u0015\u001eo]rtw!BUBNyS825)\u001aU\u0007N[64=!B\u0015NY\u001065 B\u0005N\u000eI2220&\u0007DJNI121a\u0002]NnY2h21\u0001Je\\N0p0%!DMNNY 5FUY2 \u0015!FuTNx21\u0014 BEO[2bq(bN~YFt2eBMOYr0\u0016%bG\\y2x\"=ad\u0015\u000fG|2 54Ft_\u00045)BujOP2qSu%UvNR\u0002r5\u0005R}NF[20251CWbNZ22BeFQ205$Bu\u000eF9\u0012\u001251B\u0015n[2\"7\u0000CW~^X>!25#@TOJY:02%!vWOnY2r5iD]NN0\"!\u0012CNZY:4\u00181qJ\u0011DlYs35!TO\u000eQR4?w!BONOqRr25!ATN\fY22Ru'BUnY:5!\u001dN\u0019220 \u0002\u001dN\u0019\n",
            "\n",
            "🟢 Key: 2025RABBIT!\n",
            "🔍 Possible flag(s): ['23JABB3265BBY', '4442ABRKP', '22RIGSIV', '012SAFRY', '2065ZBID', 'RIBBID0205', '21R4RABG8V520', '225VQZIT', 'VA2025RAJB', '25BABKET', 'BAT606RIBYD']\n",
            "\n",
            "📝 Preview of decoded content:\n",
            " p2uACF\tT%p15VDJ\tt16z5BAJJIX!30uWEJXd1:\u001031CF\u00020r1rMji\\1\u000202=BBJIV!3:24\u0013aF\u0002iT!04=V\t@AV!20w=\u0013BB\u0019Hq22\u00195cAJID!;0\"5\u0010KB\"I!>\u0010\u00125Z\u0001B\u0002T-\u001c:0SeBCYt2:31RSB@\u0015!:025Ra\u0002BIT 2\u0012 RQFF\ta2@2=ACB\tV%\" ;CAB\u0002Kiq0 5R@B\u0012IT>pb\u0014V\u0001\u0006\u000bT!2<2\u00153IBBA\f!{001VJBI\u0014!\u00030\u0015VACB\u0019Ta\"005WF\u0007SMT1121\u0012\u0001JBiT!j06\u0015ZqPBVa0 23JABB3265BBY\u000124\u0012/R`BCu 2 3PA\u0010\u0001]\u00010\u00025&\u0005B\rT112uReFi( \u00102}BI\u0002d\t\u0015(\u00170\"RTFc'\u00045ZAbfH]!sQr1AzBBdc0\u0016%zAJ@IT!2 37~AABT0\u0002ZIBKT$2\u0010r=2abID!r\u00127RR@hU#\u0002 39CAB@KU 60:5RQBvKU\u000120pR\tDJIT0\"R\u0011TB]T)6\u001a6eZ\u0005H`I\u0015302#@\u0002J)P,p02/R@j\"\u000bT!2335\u0010AB@)\u0014'20\u0012RIITz0uRC@H\u0014i2r5\n",
            "\n",
            "🟢 Key: 2025BUNNY!\n",
            "🔍 Possible flag(s): ['2025BUOY', '5CUNZ02025VT', 'L32825BE_N', 'BFFY10021RMNY', 'R025BUNFY', 'DNJI1225P', 'BUNNY130']\n",
            "\n",
            "📝 Preview of decoded content:\n",
            " p2uUOJ\u0019!6r6BQHQa\u0012 6\n",
            "U^NQ)2<24B\u000eK])!\u0002%JuOJ#6pN\u000e]\u0001>\u001a\u0015JE~NY)32=BWNOS!3q\u00121\u0002uNN!486}@FLY!2u:tUN\u001eEq22\u00195wMFY1292%B\u0017DN9!0>\u0015bUF\u000eYa0>n]KO}!3 \u0012B_OJY32;tB]NNY!\u0012p25BTNlK2 61\u0002\u000eN)!:24B\u0015LJI1;#5B\u0015L\u0011b2\"25CU\u001eNY>pb\u0014F\u0015\n",
            "\u001b!20>5b4FNY)j0{5@QJQ!2p2\u0004BnJY 2`2uRULN\\&w!65RON]ar82\u0015BU\u0016N]\u0001:\u0000 5W\u000eLI!4(25B\\Y60BU^y!6\u0010(5cUOx 2 3@U\u001c\r(\u00122\u0005B!\n",
            "Ne214B\u0015Nj%\u0012;'bU\u0006^Qa\u0014ps<gU^Y46\u0011DzY)2\u0010\u00164KU\u000f/\u0019%0\n",
            "5Ie\fY\u0005\"\u00182=@UNNY132\u001e5AUN٩2\u0000=JULY$2\u0010r=\"unY12p\u0015@U^[\u000032\u0002%CY_NY#0131B]NNI!\u000623\u0015BU\fYi4825N^!b&2!B]Jd]q:t8\u0017B\u0014OY!$3uJ5JC\u001b!2*24j5\fNY!112wBUL.\u0019'20\u0012B]Y!x2\u0002ULL rx2\u0002\n",
            "\u0001B\u0002T34r5%\u0001ABM48r\u00151V\n",
            "BYT:829!SA\u0002LP:#\u00051ZaCFV6pA\u0002FiX\u0018\u0012=1bABJW2827!SKBC\bt6p\u00125!ADJM\u001c0:7!RA\u0007J\b20b)qRCiBv182%![ARB\u000b^2P2!^abBA\u00142p5-mJGHp21\"\u0015RKCFIF2;t!ZABBItr025 RcPID64raR1BJT30r7%BQKXT2p0i\u0011APBIU2`25^\u0001\u0012cM\u0014vp5!RMBb(\\20:m!\u001bA@FM:02u!cAbMT30b5aBA@BLSw!651@BF\t\u0014:0\u00125!\n",
            "AFbAd 07aPQBDQT203RFB20\"\u0001REbXIu21\u0014 RQCKT`s<\u0001ArB=\u00102v5Q@B\u0002Ip4\u0012(@aB\n",
            "Y\\r\u0016rt(wARIA6\u0011'uBAT\u0012\u00143<!\u0013 \u0002FT\n",
            "09\u0005cAfRaT:225!RQC@eT105ArA\\205$Ra\u0002J)t\u00102%!\u0012b@I\"2\u00134#bQCNXT2204 VAJBID2\u000404\u0001RA\u0000I\u001c4825ARI\u0004$0&5)VkF\u0012A\u00108\u00122tSABTUr8R1,\u0010ABXIU\u001aPp5!RBCB\u000bT22Ru'RAbI\\25\u001aA\u0002IV03uiR\u0002BIT\u001652 RAFlP8251EB@\u001d\u000221\u0001rA҂AT00`)VA[T\"0=!S\u0001fJB\\: 35\u0018\u0001BBIT204!RBY\u001630\"w!ARIq\"ua\u0002BIW82\u0014RA\n",
            "A|\u001203%)0G@BKp322\u001d!BJ}2 4PA@B\u000b\\0=!BIF\u000220r\u0015\tZaBBIr82p!SAKBAD20q5R@bB\u000b\\22\u00021BEDC)T2 01!fqcB\tD3%2%\u0001RFB\\\"05\u0005\u0012\u0001@23#5!RBI\\7!27aRD@Z\tvp2=)JB@T;42u!ZAbiT20su!R@\u0006IP05 \u0012\u0004BBITS9!#\u0018Q\u0003\t\u0014\u001202!R\u0001S\u0003\u0019P435$\u0013E\"@i6465`REFJdqt%@BI\\\u00120:%1RCs\u000bUs!;1R\u0001BBIL812}!IbrID02%Ci@\u0002в065%PA@BIU0\u001201RfBIԶ46#V\u0013bBK\\: 14a\u0013IKC\t70t\u0005eRQJIT2!30aRAJdT212u!A\u0000\u0003i\u00142\u0015a\u0002cfBIV236$JCIP*165\u0013@@\\6205PSBIT2\u0010\"4!P@BHT6 \"\u0015BGEBIF\u001202u\tBA\u0012\u0002IU67:5!\u0012\u000bRrX2524\u0001WA\u0000R]2\u0011\r!RCMv\u001024!RUSIT20&4BCJBT802\u0000RAbB\b\r2p5#ZA@B\u001422:\u00152\u0012BIT2146\u0011RAGIU24eC[@E\u0002\u0013r%!ZABBiT065!vC\u0006BYu\"\u0010z5!BJF%] 21\u0010AKRAU\u001283?1SIb@K\u0015p255\u001aaRIv42%REFf\tT20r5!ZAA\u0002YPpp\"%)RBRPIP20\u00125\"RAbB 5\u0001\u0012BbHT\u001202\u0015R_FMZr21aR\u0001bB^2\u0010:5!RaJJKD25\u0010`RABHIU2!{7!FES@IT6t2%%RB\u000e\u001104;w\u0011rABIP\"37!R@@@XL222\u0014SaBbI:05!\u0016DJ\b\u0012 \u001825\u0018RAFBA22%!\u0012A@\u0002IT26$5P\u0001HN\t\\v0\u0015!RABSA\\067!SBDYT2y\u001a7!RAVB\bp\n",
            "02t!rCB\u001eV:\u00117zAbNIT\u0000r1!RA\u0000\u0002I@q94qVA\u0012BMU84e@ABCT3z5R\u0001JRH\u0002!25!PAJp\t\u00162425 RABNMP2r}aR\u0001R@Ig2rAR\u0002B\u0017r0!!R\u0006R\"I\u0012025rIBBKN>0r1#AR@\tU292e3aCBF2025!ABI\\0451ZR\tT20 %!\u0010QbYV@0u!B@BYE\u0016065)VAB\u0016IDj1  BBɔ2\u001027!ZAFBPr0\u0012=!I&BATj\"?1RK\"CIT62t7RA`@kT\"r5RaB\"MT2:5\u0001ABBmT0b6;RPBBYT#3!R@JIT0p34-R@Cp\u000bT6z7\u0001V \u0019H28\u00125RAB@iT: !\u0014eB@I|20\u00125!SQ`mt60u'RCS\u0013 2\u0015#\u0012\u0001@CM\u0016\u00100\u00125%PA\u0002\u0002\u001d205!GCPI\\202%0R@Bi\u0015P 0u\u0001REBSIV!2u!\u0012CFMTz07\u0013FJAD20;5)rEC\b\\rr1!\u0012A\"ATV\"r\u0015*\u0002BI\\00\u00135aR@\"CIT25C75RA\u0002\u0002\u000b\\\"025\u0003ACIID\u001605)\u0012TbKD8QqvDBfI@~50\u0010GbbhD3027!I\u0003`KTz\u0010\u00135!mJTr$%R@CM2t3=1\u000b\u0006Fv2r%eABB\u000342z 4!)@bAT2ru%RcR\u0013IF\u000206 rax\\40u3SVit2:=!BCBBMD*25\u0001QIV\u000bi\u00142:25 Q@D\u0000Fs\u0011\u0016p\u0001\u0012QeIT2\u001a2U%TCRH8071SFrit\u00102=@!B\\;82%!r`N{L25\u0018w!B\u0001BGHD2R\u0011qS\u0001SGqT2025SA\u0002PT2`?!RIRBTb\u001525!R\u0005]T6(v%1R\n"
          ]
        }
      ],
      "source": [
        "# Manual key-based XOR decryption using key hints from metadata\n",
        "import re\n",
        "\n",
        "# Step 1: Load the raw binary data\n",
        "with open(\"hidden_output.bin\", \"rb\") as f:\n",
        "    data = f.read()\n",
        "\n",
        "# Step 2: Key list based on the EXIF hint\n",
        "keys_to_try = [\n",
        "    \"2025rabbit!\",\n",
        "    \"2025bunny!\",\n",
        "    \"rabbit2025!\",\n",
        "    \"2024rabbit!\",\n",
        "    \"RABBIT2025!\",\n",
        "    \"BUNNY2025!\",\n",
        "    \"2025hare!\",\n",
        "    \"hare2025!\",\n",
        "    \"2025RABBIT!\",\n",
        "    \"2025BUNNY!\"\n",
        "]\n",
        "\n",
        "# Step 3: Try each key for XOR decryption\n",
        "for key in keys_to_try:\n",
        "    key_bytes = key.encode()\n",
        "    decrypted = bytes([b ^ key_bytes[i % len(key_bytes)] for i, b in enumerate(data)])\n",
        "    text = decrypted.decode('utf-8', errors='ignore')\n",
        "\n",
        "    # Step 4: Look for flag-like uppercase underscore strings\n",
        "    matches = re.findall(r\"[A-Z0-9_]{8,}\", text)\n",
        "    if matches:\n",
        "        print(f\"\\n🟢 Key: {key}\")\n",
        "        print(\"🔍 Possible flag(s):\", matches)\n",
        "        print(\"\\n📝 Preview of decoded content:\\n\", text[:500])\n",
        "\n"
      ]
    },
    {
      "cell_type": "code",
      "source": [
        "# After using XOR with RABBIT2025!\n",
        "decrypted = bytes([b ^ ord('RABBIT2025!'[i % len('RABBIT2025!')]) for i, b in enumerate(data)])\n",
        "text = decrypted.decode('utf-8', errors='ignore')\n",
        "\n",
        "# Print the full readable output to search manually\n",
        "print(text[:2000])  # or more if needed\n"
      ],
      "metadata": {
        "id": "yfGJSfaV_NO1",
        "outputId": "bbebc148-ebf0-4053-9084-31fa2b119f3a",
        "colab": {
          "base_uri": "https://localhost:8080/"
        }
      },
      "execution_count": null,
      "outputs": [
        {
          "output_type": "stream",
          "name": "stdout",
          "text": [
            "\u0001B\u0002T34r5%\u0001ABM48r\u00151V\n",
            "BYT:829!SA\u0002LP:#\u00051ZaCFV6pA\u0002FiX\u0018\u0012=1bABJW2827!SKBC\bt6p\u00125!ADJM\u001c0:7!RA\u0007J\b20b)qRCiBv182%![ARB\u000b^2P2!^abBA\u00142p5-mJGHp21\"\u0015RKCFIF2;t!ZABBItr025 RcPID64raR1BJT30r7%BQKXT2p0i\u0011APBIU2`25^\u0001\u0012cM\u0014vp5!RMBb(\\20:m!\u001bA@FM:02u!cAbMT30b5aBA@BLSw!651@BF\t\u0014:0\u00125!\n",
            "AFbAd 07aPQBDQT203RFB20\"\u0001REbXIu21\u0014 RQCKT`s<\u0001ArB=\u00102v5Q@B\u0002Ip4\u0012(@aB\n",
            "Y\\r\u0016rt(wARIA6\u0011'uBAT\u0012\u00143<!\u0013 \u0002FT\n",
            "09\u0005cAfRaT:225!RQC@eT105ArA\\205$Ra\u0002J)t\u00102%!\u0012b@I\"2\u00134#bQCNXT2204 VAJBID2\u000404\u0001RA\u0000I\u001c4825ARI\u0004$0&5)VkF\u0012A\u00108\u00122tSABTUr8R1,\u0010ABXIU\u001aPp5!RBCB\u000bT22Ru'RAbI\\25\u001aA\u0002IV03uiR\u0002BIT\u001652 RAFlP8251EB@\u001d\u000221\u0001rA҂AT00`)VA[T\"0=!S\u0001fJB\\: 35\u0018\u0001BBIT204!RBY\u001630\"w!ARIq\"ua\u0002BIW82\u0014RA\n",
            "A|\u001203%)0G@BKp322\u001d!BJ}2 4PA@B\u000b\\0=!BIF\u000220r\u0015\tZaBBIr82p!SAKBAD20q5R@bB\u000b\\22\u00021BEDC)T2 01!fqcB\tD3%2%\u0001RFB\\\"05\u0005\u0012\u0001@23#5!RBI\\7!27aRD@Z\tvp2=)JB@T;42u!ZAbiT20su!R@\u0006IP05 \u0012\u0004BBITS9!#\u0018Q\u0003\t\u0014\u001202!R\u0001S\u0003\u0019P435$\u0013E\"@i6465`REFJdqt%@BI\\\u00120:%1RCs\u000bUs!;1R\u0001BBIL812}!IbrID02%Ci@\u0002в065%PA@BIU0\u001201RfBIԶ46#V\u0013bBK\\: 14a\u0013IKC\t70t\u0005eRQJIT2!30aRAJdT212u!A\u0000\u0003i\u00142\u0015a\u0002cfBIV236$JCIP*165\u0013@@\\6205PSBIT2\u0010\"4!P@BHT6 \"\u0015BGEBIF\u001202u\tBA\u0012\u0002IU67:5!\u0012\u000bRrX2524\u0001WA\u0000R]2\u0011\r!RCMv\u001024!RUSIT20&4BCJBT802\u0000RAbB\b\r2p5#ZA@B\u001422:\u00152\u0012BIT2146\u0011RAGIU24eC[@E\u0002\u0013r%!ZABBiT065!vC\u0006BYu\"\u0010z5!BJF%] 21\u0010AKRAU\u001283?1SIb@K\u0015p255\u001aaRIv42%REFf\tT20r5!ZAA\u0002YPpp\"%)RBRPIP20\u00125\"RAbB 5\u0001\u0012BbHT\u001202\u0015R_FMZr21aR\u0001bB^2\u0010:5!RaJJKD25\u0010`RABHIU2!{7!FES@IT6t2%%RB\u000e\u001104;w\u0011rABIP\"37!R@@@XL222\u0014SaBbI:05!\u0016DJ\b\u0012 \u001825\u0018RAFBA22%!\u0012A@\u0002IT26$5P\u0001HN\t\\v0\u0015!RABSA\\067!SBDYT2y\u001a7!RAVB\bp\n",
            "02t!rCB\u001eV:\u00117zAbNIT\u0000r1!RA\u0000\u0002I@q94qVA\u0012BMU84e@ABCT3z5R\u0001JRH\u0002!25!PAJp\t\u00162425 RABNMP2r}aR\u0001R@Ig2rAR\u0002B\u0017r0!!R\u0006R\"I\u0012025rIBBKN>0r1#AR@\tU292e3aCBF2025!ABI\\0451ZR\tT20 %!\u0010QbYV@0u!B@BYE\u0016065)VAB\u0016IDj1  BBɔ2\u001027!ZAFBPr0\u0012=!I&BATj\"?1RK\"CIT62t7RA`@kT\"r5RaB\"MT2:5\u0001ABBmT0b6;RPBBYT#3!R@JIT0p34-R@Cp\u000bT6z7\u0001V \u0019H28\u00125RAB@iT: !\u0014eB@I|20\u00125!SQ`mt60u'RCS\u0013 2\u0015#\u0012\u0001@CM\u0016\u00100\u00125%PA\u0002\u0002\u001d205!GCPI\\202%0R@Bi\u0015P 0u\u0001REBSIV!2u!\u0012CFMTz07\u0013FJAD20;5)rEC\b\\rr1!\u0012A\"ATV\"r\u0015*\u0002BI\\00\u00135aR@\"CIT25C75RA\u0002\u0002\u000b\\\"025\u0003ACIID\u001605)\u0012TbKD8QqvDBfI@~50\u0010GbbhD3027!I\u0003`KTz\u0010\u00135!mJTr$%R@CM2t3=1\u000b\u0006Fv2r%eABB\u000342z 4!)@bAT2ru%RcR\u0013IF\u000206 rax\\40u3SVit2:=!BCBBMD*25\u0001QIV\u000bi\u00142:25 Q@D\u0000Fs\u0011\u0016p\u0001\u0012QeIT2\u001a2U%TCRH8071SFrit\u00102=@!B\\;82%!r`N{L25\u0018w!B\u0001BGHD2R\u0011qS\u0001SGqT2025SA\u0002PT2`?!RIRBTb\u001525!R\u0005]T6(v%1R\n"
          ]
        }
      ]
    }
  ]
}